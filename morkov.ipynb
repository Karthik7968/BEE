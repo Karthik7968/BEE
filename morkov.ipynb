{
 "cells": [
  {
   "cell_type": "code",
   "execution_count": 6,
   "id": "0de0cb86",
   "metadata": {},
   "outputs": [
    {
     "name": "stdout",
     "output_type": "stream",
     "text": [
      "Markov Transition Matrix:\n",
      "     A    C    G    T\n",
      "A  0.0  1.0  0.0  0.0\n",
      "C  0.0  0.0  1.0  0.0\n",
      "G  0.0  0.0  0.0  1.0\n",
      "T  1.0  0.0  0.0  0.0\n"
     ]
    }
   ],
   "source": [
    "import pandas as pd\n",
    "import numpy as np\n",
    "\n",
    "def build_markov_transition_matrix(sequence):\n",
    "    # Define nucleotides\n",
    "    nucleotides = ['A', 'C', 'G', 'T']\n",
    "    n = len(nucleotides)\n",
    "    \n",
    "    # Initialize transition count matrix\n",
    "    transition_counts = np.zeros((n, n), dtype=float)\n",
    "    \n",
    "    # Count transitions\n",
    "    for i in range(len(sequence) - 1):\n",
    "        current_nuc = sequence[i].upper()\n",
    "        next_nuc = sequence[i + 1].upper()\n",
    "        if current_nuc in nucleotides and next_nuc in nucleotides:\n",
    "            row_idx = nucleotides.index(current_nuc)\n",
    "            col_idx = nucleotides.index(next_nuc)\n",
    "            transition_counts[row_idx, col_idx] += 1\n",
    "    \n",
    "    # Compute transition probabilities\n",
    "    # Normalize by row sums (total transitions from each nucleotide)\n",
    "    row_sums = transition_counts.sum(axis=1, keepdims=True)\n",
    "    # Avoid division by zero; if no transitions, set probabilities to 0\n",
    "    transition_matrix = np.divide(transition_counts, row_sums, \n",
    "                                out=np.zeros_like(transition_counts), \n",
    "                                where=row_sums != 0)\n",
    "    \n",
    "    # Create a DataFrame for better visualization\n",
    "    transition_df = pd.DataFrame(transition_matrix, \n",
    "                                index=nucleotides, \n",
    "                                columns=nucleotides)\n",
    "    \n",
    "    return transition_df\n",
    "\n",
    "def main():\n",
    "    # Example DNA sequence (replace with your sequence or read from file)\n",
    "    sequence = \"ACGTACGTACGTACGT\"  # Placeholder sequence\n",
    "    \n",
    "    # If reading from a file, uncomment and update the path\n",
    "    # with open('sequence.txt', 'r') as f:\n",
    "    #     sequence = f.read().strip()\n",
    "    \n",
    "    # Build and print the transition matrix\n",
    "    transition_matrix = build_markov_transition_matrix(sequence)\n",
    "    print(\"Markov Transition Matrix:\")\n",
    "    print(transition_matrix)\n",
    "\n",
    "if __name__ == '__main__':\n",
    "    main()"
   ]
  },
  {
   "cell_type": "code",
   "execution_count": null,
   "id": "d27dd709",
   "metadata": {},
   "outputs": [],
   "source": []
  }
 ],
 "metadata": {
  "kernelspec": {
   "display_name": "Python 3 (ipykernel)",
   "language": "python",
   "name": "python3"
  },
  "language_info": {
   "codemirror_mode": {
    "name": "ipython",
    "version": 3
   },
   "file_extension": ".py",
   "mimetype": "text/x-python",
   "name": "python",
   "nbconvert_exporter": "python",
   "pygments_lexer": "ipython3",
   "version": "3.12.3"
  }
 },
 "nbformat": 4,
 "nbformat_minor": 5
}
