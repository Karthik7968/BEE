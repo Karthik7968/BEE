{
 "cells": [
  {
   "cell_type": "code",
   "execution_count": 7,
   "id": "283f0f73",
   "metadata": {},
   "outputs": [
    {
     "name": "stdout",
     "output_type": "stream",
     "text": [
      "Successfully converted 'multiline_input.fasta' to 'singleline_output.fasta'.\n"
     ]
    }
   ],
   "source": [
    "import os\n",
    "\n",
    "def convert_fasta_to_singleline(input_file, output_file):\n",
    "    try:\n",
    "        # Check if input file exists\n",
    "        if not os.path.exists(input_file):\n",
    "            raise FileNotFoundError(f\"Error: Input file '{input_file}' not found.\")\n",
    "        \n",
    "        # Open input and output files\n",
    "        with open(input_file, 'r') as infile, open(output_file, 'w') as outfile:\n",
    "            current_sequence = []\n",
    "            current_header = None\n",
    "            \n",
    "            # Process each line in the input file\n",
    "            for line in infile:\n",
    "                line = line.strip()\n",
    "                if not line:  # Skip empty lines\n",
    "                    continue\n",
    "                if line.startswith('>'):  # Header line\n",
    "                    # If we have a previous sequence, write it out\n",
    "                    if current_header is not None:\n",
    "                        outfile.write(f\"{current_header}\\n\")\n",
    "                        outfile.write(f\"{''.join(current_sequence)}\\n\")\n",
    "                    # Start new sequence\n",
    "                    current_header = line\n",
    "                    current_sequence = []\n",
    "                else:\n",
    "                    # Append sequence line\n",
    "                    current_sequence.append(line)\n",
    "            \n",
    "            # Write the last sequence\n",
    "            if current_header is not None and current_sequence:\n",
    "                outfile.write(f\"{current_header}\\n\")\n",
    "                outfile.write(f\"{''.join(current_sequence)}\\n\")\n",
    "                \n",
    "        print(f\"Successfully converted '{input_file}' to '{output_file}'.\")\n",
    "    \n",
    "    except FileNotFoundError as e:\n",
    "        print(e)\n",
    "    except Exception as e:\n",
    "        print(f\"Error processing file: {str(e)}\")\n",
    "\n",
    "def main():\n",
    "    # File paths\n",
    "    input_file = 'multiline_input.fasta'\n",
    "    output_file = 'singleline_output.fasta'\n",
    "    \n",
    "    # Convert the FASTA file\n",
    "    convert_fasta_to_singleline(input_file, output_file)\n",
    "\n",
    "if __name__ == '__main__':\n",
    "    main()"
   ]
  },
  {
   "cell_type": "code",
   "execution_count": null,
   "id": "986d1a35",
   "metadata": {},
   "outputs": [],
   "source": []
  }
 ],
 "metadata": {
  "kernelspec": {
   "display_name": "Python 3 (ipykernel)",
   "language": "python",
   "name": "python3"
  },
  "language_info": {
   "codemirror_mode": {
    "name": "ipython",
    "version": 3
   },
   "file_extension": ".py",
   "mimetype": "text/x-python",
   "name": "python",
   "nbconvert_exporter": "python",
   "pygments_lexer": "ipython3",
   "version": "3.12.3"
  }
 },
 "nbformat": 4,
 "nbformat_minor": 5
}
